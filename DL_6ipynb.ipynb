{
  "nbformat": 4,
  "nbformat_minor": 0,
  "metadata": {
    "colab": {
      "private_outputs": true,
      "provenance": []
    },
    "kernelspec": {
      "name": "python3",
      "display_name": "Python 3"
    },
    "language_info": {
      "name": "python"
    }
  },
  "cells": [
    {
      "cell_type": "code",
      "execution_count": null,
      "metadata": {
        "id": "RsWoyMEIgoYo"
      },
      "outputs": [],
      "source": [
        "import matplotlib.pyplot as plt\n",
        "import pandas as pd\n",
        "import numpy as np\n",
        "from tensorflow.keras.preprocessing import sequence\n",
        "from sklearn.model_selection import train_test_split\n",
        "from keras import layers\n",
        "from keras.models import Model"
      ]
    },
    {
      "cell_type": "code",
      "source": [
        "data = pd.read_csv(\"/content/ner_dataset.csv\", encoding=\"latin1\")\n",
        "\n",
        "data.head(50)\n",
        "\n",
        "data = data.fillna(method=\"ffill\")\n",
        "\n",
        "data.head(50)\n",
        "\n",
        "print(\"Unique words in corpus:\", data['Word'].nunique())\n",
        "print(\"Unique tags in corpus:\", data['Tag'].nunique())\n",
        "\n",
        "words=list(data['Word'].unique())\n",
        "words.append(\"ENDPAD\")\n",
        "tags=list(data['Tag'].unique())\n",
        "\n",
        "print(\"Unique tags are:\", tags)"
      ],
      "metadata": {
        "id": "qNZtQ5mwhe9g"
      },
      "execution_count": null,
      "outputs": []
    },
    {
      "cell_type": "code",
      "source": [
        "num_words = len(words)\n",
        "num_tags = len(tags)\n",
        "     "
      ],
      "metadata": {
        "id": "Do2PB9_xcIlu"
      },
      "execution_count": null,
      "outputs": []
    },
    {
      "cell_type": "code",
      "source": [
        "num_words"
      ],
      "metadata": {
        "id": "Wn09QFP3cKyn"
      },
      "execution_count": null,
      "outputs": []
    },
    {
      "cell_type": "code",
      "source": [
        "class SentenceGetter(object):\n",
        "    def __init__(self, data):\n",
        "        self.n_sent = 1\n",
        "        self.data = data\n",
        "        self.empty = False\n",
        "        agg_func = lambda s: [(w, p, t) for w, p, t in zip(s[\"Word\"].values.tolist(),\n",
        "                                                           s[\"POS\"].values.tolist(),\n",
        "                                                           s[\"Tag\"].values.tolist())]\n",
        "        self.grouped = self.data.groupby(\"Sentence #\").apply(agg_func)\n",
        "        self.sentences = [s for s in self.grouped]\n",
        "    \n",
        "    def get_next(self):\n",
        "        try:\n",
        "            s = self.grouped[\"Sentence: {}\".format(self.n_sent)]\n",
        "            self.n_sent += 1\n",
        "            return s\n",
        "        except:\n",
        "            return None\n",
        "getter = SentenceGetter(data)\n",
        "sentences = getter.sentences\n",
        "len(sentences)\n",
        "sentences[225]\n"
      ],
      "metadata": {
        "id": "ZaVgjkKyo-hS"
      },
      "execution_count": null,
      "outputs": []
    },
    {
      "cell_type": "code",
      "source": [
        "sentences[0]\n",
        "     "
      ],
      "metadata": {
        "id": "lxwwj03CcRXi"
      },
      "execution_count": null,
      "outputs": []
    },
    {
      "cell_type": "code",
      "source": [
        "word2idx = {w: i + 1 for i, w in enumerate(words)}\n",
        "tag2idx = {t: i for i, t in enumerate(tags)}\n",
        "word2idx"
      ],
      "metadata": {
        "id": "TzwNSomvpCuV"
      },
      "execution_count": null,
      "outputs": []
    },
    {
      "cell_type": "code",
      "source": [
        "plt.hist([len(s) for s in sentences], bins=50)\n",
        "plt.show()\n",
        "X1 = [[word2idx[w[0]] for w in s] for s in sentences]\n",
        "max_len = 50\n",
        "X = sequence.pad_sequences(maxlen=max_len,\n",
        "                  sequences=X1, padding=\"post\",\n",
        "                  value=num_words-1)\n",
        "y1 = [[tag2idx[w[2]] for w in s] for s in sentences]"
      ],
      "metadata": {
        "id": "09lBOLYIpC4d"
      },
      "execution_count": null,
      "outputs": []
    },
    {
      "cell_type": "code",
      "source": [],
      "metadata": {
        "id": "-4DKbSNVbTSv"
      },
      "execution_count": null,
      "outputs": []
    },
    {
      "cell_type": "code",
      "source": [
        "y = sequence.pad_sequences(maxlen=max_len,sequences=y1,padding=\"post\",value=tag2idx[\"O\"])     "
      ],
      "metadata": {
        "id": "_L_cYdQIpHiO"
      },
      "execution_count": null,
      "outputs": []
    },
    {
      "cell_type": "code",
      "source": [
        "X_train, X_test, y_train, y_test = train_test_split(X, y,test_size=0.2, random_state=1)\n",
        "input_word = layers.Input(shape=(max_len,))\n",
        "embedding_layer= layers.Embedding(input_dim=num_words,output_dim=50,input_length=max_len)(input_word)\n",
        "dropout_layer=layers.SpatialDropout1D(0.1)(embedding_layer)\n",
        "bidirectional_lstm=layers.Bidirectional(layers.LSTM(units=100,return_sequences=True,recurrent_dropout=0.1))(dropout_layer)\n",
        "output=layers.TimeDistributed(layers.Dense(num_tags,activation=\"softmax\"))(bidirectional_lstm)              \n",
        "model = Model(input_word, output)"
      ],
      "metadata": {
        "id": "ba7yaBuMbVtR"
      },
      "execution_count": null,
      "outputs": []
    },
    {
      "cell_type": "code",
      "source": [
        "model.summary()\n",
        "model.compile(optimizer=\"adam\",loss=\"sparse_categorical_crossentropy\",metrics=[\"accuracy\"])\n",
        "history = model.fit(x=X_train,y=y_train,validation_data=(X_test,y_test),batch_size=64, epochs=3,)\n",
        "metrics = pd.DataFrame(model.history.history)\n",
        "metrics.head()\n",
        "metrics[['loss','val_loss']].plot()\n",
        "metrics[['accuracy','val_accuracy']].plot()\n"
      ],
      "metadata": {
        "id": "sFEKLeoJc2R7"
      },
      "execution_count": null,
      "outputs": []
    },
    {
      "cell_type": "code",
      "source": [
        "i = 20\n",
        "p = model.predict(np.array([X_test[i]]))\n",
        "p = np.argmax(p, axis=-1)\n",
        "y_true = y_test[i]\n",
        "print(\"{:15}{:5}\\t {}\\n\".format(\"Word\", \"True\", \"Pred\"))\n",
        "print(\"-\" *30)\n",
        "for w, true, pred in zip(X_test[i], y_true, p[0]):\n",
        "    print(\"{:15}{}\\t{}\".format(words[w-1], tags[true], tags[pred]))\n"
      ],
      "metadata": {
        "id": "OdViouxbc66I"
      },
      "execution_count": null,
      "outputs": []
    }
  ]
}